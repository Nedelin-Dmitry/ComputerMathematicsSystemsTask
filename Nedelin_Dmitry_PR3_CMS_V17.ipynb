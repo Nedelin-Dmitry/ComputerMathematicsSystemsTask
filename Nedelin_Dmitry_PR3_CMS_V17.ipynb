{
 "cells": [
  {
   "cell_type": "markdown",
   "id": "8687bce0",
   "metadata": {},
   "source": [
    "Copyright by Nedelin_Dmitry in 2022\n",
    "\n",
    "github:https://github.com/Nedelin-Dmitry"
   ]
  },
  {
   "cell_type": "code",
   "execution_count": 2,
   "id": "27f698e8",
   "metadata": {},
   "outputs": [],
   "source": [
    "import numpy as np # для матриц\n",
    "import matplotlib.pyplot as plt # для графиков\n",
    "%matplotlib inline\n",
    "from scipy import linalg"
   ]
  },
  {
   "cell_type": "markdown",
   "id": "c96a02b1",
   "metadata": {},
   "source": [
    "# Описание задачи\n",
    "\n",
    "## 17. Метод Штрассена \n",
    "*Метод Штрассена* умножения матриц заключается в разбиении матрицы на 4 равные клетки\n",
    "$$\n",
    "\\left(\n",
    "\\begin{array}{cc}\n",
    "C_{11} & C_{12}   \\\\\n",
    "C_{21} & C_{22}   \\\\\n",
    "\\end{array}\n",
    "\\right)\n",
    "=\n",
    "\\left(\n",
    "\\begin{array}{cc}\n",
    "A_{11} & A_{12}   \\\\\n",
    "A_{21} & A_{22}   \\\\\n",
    "\\end{array}\n",
    "\\right)\n",
    "\\cdot\n",
    "\\left(\n",
    "\\begin{array}{cc}\n",
    "B_{11} & B_{12}   \\\\\n",
    "B_{21} & B_{22}   \\\\\n",
    "\\end{array}\n",
    "\\right),\n",
    "$$\n",
    " и нахождения\n",
    "произведения по формулам:\n",
    "$$\n",
    "\\begin{array}{l}\n",
    "D_1 = (A_{11} + A_{22}) \\cdot (B_{11} + B_{22}), \\\\\n",
    "D_2 = (A_{12} - A_{22}) \\cdot (B_{21} + B_{22}), \\\\\n",
    "D_3 = (A_{11} - A_{21}) \\cdot (B_{11} + B_{12}), \\\\\n",
    "D_4 = (A_{11} + A_{12}) \\cdot B_{22}, \\\\\n",
    "D_5 = (A_{21} + A_{22}) \\cdot B_{11}, \\\\\n",
    "D_6 = A_{11} \\cdot (B_{12} - B_{22}), \\\\\n",
    "D_7 = A_{22} \\cdot (-B_{11}+B_{21}), \\\\\n",
    "\\end{array}\n",
    "$$\n",
    "и\n",
    "$$\n",
    "  \\begin{array}{l}\n",
    "    C_{11}  =    D_1   +   D_2             -   D_4                      +    D_7   ,\\\\\n",
    "    C_{12}  =                                  D_4            +    D_6,             \\\\\n",
    "    C_{21}  =                                            D_5            +    D_7   ,\\\\\n",
    "    C_{22}  =    D_1             -   D_3             -   D_5  +    D_6.             \\\\\n",
    "  \\end{array}\n",
    "$$\n",
    "\n",
    "Для нахождения произведений вида $(A_{11} + A_{22}) \\cdot (B_{11} + B_{22})$ и т.п.\n",
    "рекурсивно используется тот же алгоритм.\n",
    "Если обычный алгоритм умножения квадратных матриц порядка $n$ использует $O(n^3)$ операций,\n",
    "то алгоритм Штрессана использует только $O(n^{\\log_2 7}) = O(n^{2.8})$.\n",
    "Напишите функцию `strassen(A, B)`, реализующую этот алгоритм для матриц порядка $2^k$.\n",
    "Экспериментально постройте графики зависимоти времени работы алгоритма Штрассена и обычного алгоритма от порядка матрицы.\n",
    "Удастся ли вам дойти до таких размеров матриц, что ваша реализация алгоритма Штрассена будет быстрее\n",
    "обычного алгоритма умножения?"
   ]
  },
  {
   "cell_type": "markdown",
   "id": "6eb6de5b",
   "metadata": {},
   "source": [
    "## Задачи:\n",
    "### 1)Написать функцию strassen(A, B), реализующую этот алгоритм для матриц порядка  $2^k$\n",
    "### 2)Экспериментально построить графики зависимоти времени работы алгоритма Штрассена и обычного алгоритма от порядка матрицы.\n",
    "### 3)Выяснить удастся ли дойти до таких размеров матриц, что реализация алгоритма Штрассена будет быстрее обычного алгоритма умножения?"
   ]
  },
  {
   "cell_type": "markdown",
   "id": "aaf13411",
   "metadata": {},
   "source": [
    "### План реализации:\n",
    "#### 1)Написать функцию для классического умножения матриц\n",
    "#### 2)Написать функция реализующую алгоритм Штрассена\n",
    "#### 3)После серии экспериментов построить графики зависимости времени работы двух алгоритмов от порядка матрицы\n",
    "#### 4)Сравнить результаты, сделать выводы"
   ]
  },
  {
   "cell_type": "markdown",
   "id": "1db5cd6d",
   "metadata": {},
   "source": [
    "## Функция классического умножения матриц\n",
    "Возьмём 2-е матрицы $A$ и $B$ размером 4x4 и опишем алгоритм подсчёта умножения\n",
    "$$\n",
    "\\left(\n",
    "\\begin{array}{cc}\n",
    "A_{11} & A_{12} & A_{13} & A_{14} \\\\\n",
    "A_{21} & A_{22} & A_{23} & A_{24}  \\\\\n",
    "A_{31} & A_{32} & A_{33} & A_{44}  \\\\\n",
    "A_{41} & A_{42} & A_{43} & A_{44}  \\\\\n",
    "\\end{array}\n",
    "\\right)\n",
    "\\cdot\n",
    "\\left(\n",
    "\\begin{array}{cc}\n",
    "B_{11} & B_{12} & B_{13} & B_{14} \\\\\n",
    "B_{21} & B_{22} & B_{23} & B_{24}  \\\\\n",
    "B_{31} & B_{32} & B_{33} & B_{44}  \\\\\n",
    "B_{41} & B_{42} & B_{43} & B_{44}  \\\\\n",
    "\\end{array}\n",
    "\\right)\n",
    "\\cdot\n",
    "=\n",
    "\\left(\n",
    "\\begin{array}{cc}\n",
    "C_{11} & C_{12} & C_{13} & C_{14} \\\\\n",
    "C_{21} & C_{22} & C_{23} & C_{24}  \\\\\n",
    "C_{31} & C_{32} & C_{33} & C_{44}  \\\\\n",
    "C_{41} & C_{42} & C_{43} & C_{44}  \\\\\n",
    "\\end{array}\n",
    "\\right)\n",
    "$$\n",
    "Подсчёт первой ячейки:\n",
    "$$\n",
    "C11 = ((A11 \\cdot B11) + (A12 \\cdot B21) + (A13 \\cdot B31) + (A14 \\cdot B41))\n",
    "$$\n",
    "\n",
    "Подсчёт следующей ячейки по гирозонтали:\n",
    "$$\n",
    "C12 = ((A11 \\cdot B12) + (A12 \\cdot B22) + (A13 \\cdot B32) + (A14 \\cdot B42))\n",
    "$$\n",
    "\n",
    "Подсчёт следующей ячейки по вертикали:\n",
    "$$\n",
    "C21 = ((A21 \\cdot B11) + (A22 \\cdot B21) + (A23 \\cdot B31) + (A24 \\cdot B41))\n",
    "$$\n",
    "\n",
    "Пусть $i$ - номер строки массива $A$ , $j$ - номер столбца массива $A$, а $k$ - номер столбца массива $B$, тогда:\n",
    "$$\n",
    "C[i][j] = ((A[i][k] \\cdot B[k][j]) + (A[i][k + 1] \\cdot B[k + 1][j]) + (A[i][k + 2] \\cdot B[k + 2][j]) + (...)\n",
    "$$\n",
    "\n",
    "По следующей логике напишем функцию классического умножения матриц $MultiSimple$ "
   ]
  },
  {
   "cell_type": "code",
   "execution_count": 2,
   "id": "c041276a",
   "metadata": {},
   "outputs": [],
   "source": [
    "def multisimple(A, B):\n",
    "    n, m, p = A.shape[0], A.shape[1], B.shape[1] \n",
    "    # n - кол-во строк в A, m - кол-во столбцов в A, p - кол-во столбцов в B\n",
    "    C = np.array([[0]*p for i in range(n)])\n",
    "    for i in range(n):\n",
    "        for j in range(p):\n",
    "            for k in range(m):\n",
    "                C[i][j] += A[i][k]*B[k][j]"
   ]
  },
  {
   "cell_type": "markdown",
   "id": "475bda52",
   "metadata": {},
   "source": [
    "## Функция умножения матриц методом Штрассена\n",
    "### Теория\n",
    "Умножение массивов 2x2 выглядит подобным образом\n",
    "$$\n",
    "\\left(\n",
    "\\begin{array}{c}\n",
    "a & b\\\\\n",
    "c & d\\\\\n",
    "\\end{array}\n",
    "\\right)\n",
    "\\cdot\n",
    "\\left(\n",
    "\\begin{array}{c}\n",
    "e & f\\\\\n",
    "g & h\\\\\n",
    "\\end{array}\n",
    "\\right)\n",
    "=\n",
    "\\left(\n",
    "\\begin{array}{c}\n",
    "ae + bg & af +bh\\\\\n",
    "ce + dg & cf + dh\\\\\n",
    "\\end{array}\n",
    "\\right)\n",
    "$$\n",
    "Но такой спобоб можно применять и для умножения больших массивов, просто разделяя массивы(условно $A$ и $B$) на 4-ре части, меньшие части в свою очередь делить на 4 части, до тех пор пока мы не придём к:\n",
    "$$\n",
    "\\left(\n",
    "\\begin{array}{c}\n",
    "ae + bg & af +bh\\\\\n",
    "ce + dg & cf + dh\\\\\n",
    "\\end{array}\n",
    "\\right)\n",
    "$$\n",
    "Теперь распишем составные части массива: \n",
    "$$ae + bg =(a+d)(e + h) + d(g-e) - (a + b)h + (b - d)(g + h)$$  \n",
    "$$af +bh = a(f - h) + (a + b)h$$ \n",
    "$$ce + dg =(c + d)e + d(g - e)$$  \n",
    "$$cf + dh =a(f - h) + (a + d)(e + h) - (c + d)e - (a - c)(e + f)$$\n",
    "и разобьём их множители на состаные части:\n",
    "$$\n",
    "\\begin{array}{l}\n",
    "D_1 = (a + d) \\cdot (e + h), \\\\\n",
    "D_2 = (b - d) \\cdot (g + h), \\\\\n",
    "D_3 = (a - c) \\cdot (e + f), \\\\\n",
    "D_4 = (a + b) \\cdot h, \\\\\n",
    "D_5 = (c + d) \\cdot e, \\\\\n",
    "D_6 = a \\cdot (f - h), \\\\\n",
    "D_7 = d \\cdot (g - e), \\\\\n",
    "\\end{array}\n",
    "$$\n",
    "Тогда 4 части исходного массива:\n",
    "$$\n",
    "  \\begin{array}{l}\n",
    "    C_{11}  =    D_1   +   D_2             -   D_4                      +    D_7   ,\\\\\n",
    "    C_{12}  =                                  D_4            +    D_6,             \\\\\n",
    "    C_{21}  =                                            D_5            +    D_7   ,\\\\\n",
    "    C_{22}  =    D_1             -   D_3             -   D_5  +    D_6.             \\\\\n",
    "  \\end{array}\n",
    "$$\n",
    "### Реализация\n",
    "1)Написать функцию, которая будет делить массивы на части\n",
    "\n",
    "2)Написать сам алгоритм Штрассена"
   ]
  },
  {
   "cell_type": "markdown",
   "id": "ac2e6fb2",
   "metadata": {},
   "source": [
    "## Напишем функцию split(matrix) для деления массива на 4 части:"
   ]
  },
  {
   "cell_type": "code",
   "execution_count": 3,
   "id": "f522d466",
   "metadata": {},
   "outputs": [],
   "source": [
    "def split(matrix):\n",
    "    n = len(matrix) # Узнаём длину массива\n",
    "    # За раз, мы можем вернуть только одно значение через return, не используя списки / кортежи\n",
    "    # Но мы можем вернуть по 1-му значению на каждый элемент, в функции strassen мы увидим как это работает\n",
    "    #Возвращаем срезы\n",
    "    return matrix[:n//2, :n//2], matrix[:n//2, n//2:], matrix[n//2:, :n//2], matrix[n//2:, n//2:]\n",
    "            #i-  [0, n//2)             [0, n//2)             [n//2 , n)            [n//2, n)\n",
    "            #j-  [0, n//2)             [n//2, n)             [0, n//2)             [n//2, n)"
   ]
  },
  {
   "cell_type": "markdown",
   "id": "fd8c0203",
   "metadata": {},
   "source": [
    "## По вышеописанному алгоритму напишем фукцию strassen(A, B):"
   ]
  },
  {
   "cell_type": "code",
   "execution_count": 4,
   "id": "320702bd",
   "metadata": {},
   "outputs": [],
   "source": [
    "def MultiSimple(A, B):\n",
    "    n, m, p = A.shape[0], A.shape[1], B.shape[1] \n",
    "    # n - кол-во строк в A, m - кол-во столбцов в A, p - кол-во столбцов в B\n",
    "    C = np.array([[0]*p for i in range(n)])\n",
    "    for i in range(n):\n",
    "        for j in range(p):\n",
    "            for k in range(m):\n",
    "                C[i][j] += A[i][k]*B[k][j]\n",
    "                #O(n**3)\n",
    "    return C\n",
    "\n",
    "def Split(matrix):\n",
    "    n = len(matrix)\n",
    "    return matrix[:n//2, :n//2], matrix[:n//2, n//2:], matrix[n//2:, :n//2], matrix[n//2:, n//2:]\n",
    "\n",
    "def strassen(A, B):\n",
    "    if len(A) <= 2:\n",
    "        return MultiSimple(A, B)\n",
    "    a11, a12, a21, a22 = Split(A) # a b c d\n",
    "    b11, b12, b21, b22 = Split(B) # e f g h\n",
    "    # A11 A12  a b  |  B11 B12  e f\n",
    "    # A21 A22  c d  |  B21 B22  g h\n",
    "    D1 = strassen(a11+a22, b11+b22)\n",
    "    D2 = strassen(a12-a22, b21+b22)\n",
    "    D3 = strassen(a11-a21, b11+b12)\n",
    "    D4 = strassen(a11+a12, b22)\n",
    "    D5 = strassen(a21+a22, b11)\n",
    "    D6 = strassen(a11, b12-b22)\n",
    "    D7 = strassen(a22, b21-b11)\n",
    "    \n",
    "    C11 = D1 + D2 - D4 + D7\n",
    "    C12 = D4 + D6\n",
    "    C21 = D5 + D7\n",
    "    C22 = D1 - D3 - D5 + D6\n",
    "    # горизонтально соединяем C11 C12 и C21 C22 - после чего соединяем это вертикально в полный массив\n",
    "    C = np.vstack((np.hstack((C11, C12)), np.hstack((C21, C22))))\n",
    "    return C"
   ]
  },
  {
   "cell_type": "markdown",
   "id": "bab96904",
   "metadata": {},
   "source": [
    "## Серия экспериментов с временем выполнения умножения\n",
    "1)Задаём размер массивов равный $2^k$\n",
    "\n",
    "2)Создаём два массива с заданной размерности и заполняем их любыми числами\n",
    "\n",
    "3)Через команду %%time сравниваем время работы 2-х алгоритмов"
   ]
  },
  {
   "cell_type": "code",
   "execution_count": 5,
   "id": "b1ab84e2",
   "metadata": {},
   "outputs": [
    {
     "name": "stdout",
     "output_type": "stream",
     "text": [
      "[[3 3 3 ... 3 3 3]\n",
      " [3 3 3 ... 3 3 3]\n",
      " [3 3 3 ... 3 3 3]\n",
      " ...\n",
      " [3 3 3 ... 3 3 3]\n",
      " [3 3 3 ... 3 3 3]\n",
      " [3 3 3 ... 3 3 3]]\n",
      "[[4 4 4 ... 4 4 4]\n",
      " [4 4 4 ... 4 4 4]\n",
      " [4 4 4 ... 4 4 4]\n",
      " ...\n",
      " [4 4 4 ... 4 4 4]\n",
      " [4 4 4 ... 4 4 4]\n",
      " [4 4 4 ... 4 4 4]]\n"
     ]
    }
   ],
   "source": [
    "#Периодически %%time выдаёт разное время работы, я посчитал среднее из серии запусков\n",
    "MASS_SIZE = 32\n",
    "A = np.array([[3]*MASS_SIZE for i in range(MASS_SIZE)])\n",
    "B = np.array([[4]*MASS_SIZE for i in range(MASS_SIZE)])\n",
    "print(A)\n",
    "print(B)"
   ]
  },
  {
   "cell_type": "code",
   "execution_count": 6,
   "id": "9b9e87e0",
   "metadata": {},
   "outputs": [
    {
     "name": "stdout",
     "output_type": "stream",
     "text": [
      "Wall time: 42.4 ms\n"
     ]
    },
    {
     "data": {
      "text/plain": [
       "array([[384, 384, 384, ..., 384, 384, 384],\n",
       "       [384, 384, 384, ..., 384, 384, 384],\n",
       "       [384, 384, 384, ..., 384, 384, 384],\n",
       "       ...,\n",
       "       [384, 384, 384, ..., 384, 384, 384],\n",
       "       [384, 384, 384, ..., 384, 384, 384],\n",
       "       [384, 384, 384, ..., 384, 384, 384]])"
      ]
     },
     "execution_count": 6,
     "metadata": {},
     "output_type": "execute_result"
    }
   ],
   "source": [
    "%%time\n",
    "#Эти значения слишком малы для построения графика\n",
    "#2 ≈ 0(ms)\n",
    "#4 ≈ 0\n",
    "#8 ≈ 0.998 \n",
    "\n",
    "#16 ≈ 5.5(ms) ≈ 0,0055(s)\n",
    "#32 ≈ 43.5 ≈ 0,044(s)\n",
    "#64 ≈ 286 ≈ 0,29(s)\n",
    "#128 ≈ 1.96(s)  \n",
    "#256 ≈ 13.6(s) \n",
    "#512 ≈ 1 min 35s ≈ 95(s)\n",
    "#1024 ≈ 11min 17s ≈ 677(s)\n",
    "strassen(A, B)"
   ]
  },
  {
   "cell_type": "code",
   "execution_count": 7,
   "id": "eb6b267b",
   "metadata": {},
   "outputs": [
    {
     "name": "stdout",
     "output_type": "stream",
     "text": [
      "Wall time: 22.9 ms\n"
     ]
    },
    {
     "data": {
      "text/plain": [
       "array([[384, 384, 384, ..., 384, 384, 384],\n",
       "       [384, 384, 384, ..., 384, 384, 384],\n",
       "       [384, 384, 384, ..., 384, 384, 384],\n",
       "       ...,\n",
       "       [384, 384, 384, ..., 384, 384, 384],\n",
       "       [384, 384, 384, ..., 384, 384, 384],\n",
       "       [384, 384, 384, ..., 384, 384, 384]])"
      ]
     },
     "execution_count": 7,
     "metadata": {},
     "output_type": "execute_result"
    }
   ],
   "source": [
    "%%time\n",
    "#Эти значения слишком малы для построения графика\n",
    "#2 ≈ 0(ms)\n",
    "#4 ≈ 0\n",
    "#8 ≈ 0.997 \n",
    "\n",
    "#16 ≈ 2,49(ms) ≈ 0,0025(s)\n",
    "#32 ≈ 24.9(ms) ≈ 0,025(s)\n",
    "#64 ≈ 186(ms) ≈ 0,19(s)\n",
    "#128 ≈ 1.47(s)\n",
    "#256 ≈ 12\n",
    "#512 ≈ 1min 37 s ≈ 97s\n",
    "#1024 ≈ 14min 10s ≈ 850s\n",
    "MultiSimple(A,B)"
   ]
  },
  {
   "cell_type": "markdown",
   "id": "d7303628",
   "metadata": {},
   "source": [
    "```\n",
    " Размерность массива   Классический алгоритм(s)  Алгоритм Штрассена(s)\n",
    "         16                      0,0025                 0,0055\n",
    "         32                      0,025                  0,044\n",
    "         64                      0,19                   0,29\n",
    "         128                     1,47                   1,96\n",
    "         256                     12                     13,6\n",
    "         512                     97                     95  \n",
    "         1024                    850                    677\n",
    "```"
   ]
  },
  {
   "cell_type": "code",
   "execution_count": 31,
   "id": "ba9d8c39",
   "metadata": {},
   "outputs": [
    {
     "data": {
      "image/png": "[encoded data removed]",
      "text/plain": [
       "<Figure size 432x288 with 1 Axes>"
      ]
     },
     "metadata": {
      "needs_background": "light"
     },
     "output_type": "display_data"
    }
   ],
   "source": [
    "#Обычное построение графиков\n",
    "#Логарифмический марсштаб\n",
    "classic = np.array([0.0025,  0.025,  0.19,  1.47,  12.,  97.,  850.])\n",
    "strassen = np.array([0.0055, 0.044, 0.29, 1.96, 13.6, 95, 677])\n",
    "#y = np.array([16, 32, 64, 128, 256, 512, 1024])\n",
    "y = np.array([4, 5, 6, 7, 8, 9, 10])\n",
    "plt.title(r'x = seconds y = $k$')\n",
    "#plt.plot(classic, y, label = \"classic\")\n",
    "plt.semilogx(classic, y)\n",
    "plt.semilogx(strassen, y)\n",
    "pass"
   ]
  },
  {
   "cell_type": "code",
   "execution_count": 32,
   "id": "20668930",
   "metadata": {},
   "outputs": [
    {
     "data": {
      "image/png": "[encoded data removed]",
      "text/plain": [
       "<Figure size 432x288 with 1 Axes>"
      ]
     },
     "metadata": {
      "needs_background": "light"
     },
     "output_type": "display_data"
    }
   ],
   "source": [
    "#Используем аппроксимацию для большей наглядности\n",
    "plt.title(r'x = seconds y = matrix size')\n",
    "n = len(classic)\n",
    "X = np.stack((np.ones(n), classic)).T\n",
    "beta = np.linalg.solve(X.T@X, X.T@y)\n",
    "beta0, beta1 = beta\n",
    "plt.plot(classic, X@beta)\n",
    "\n",
    "\n",
    "n = len(strassen)\n",
    "X = np.stack((np.ones(n), strassen)).T\n",
    "beta = np.linalg.solve(X.T@X, X.T@y)\n",
    "beta0, beta1 = beta\n",
    "plt.plot(strassen, X@beta)\n",
    "pass"
   ]
  },
  {
   "cell_type": "markdown",
   "id": "348f9f1d",
   "metadata": {},
   "source": [
    "# Вывод:\n",
    "Сравнив результаты двух алгоритмов мы выяснили:\n",
    "Алгоритм Штрассена работает медленее классического умножения матриц на малых значениях, однако с ростом размерности матриц разница во времени выполнения уменьшается. Алгоритм Штрассена работает значительно быстрее на матрицах большой размерности и начинает работать быстрее начиная с размерности $2^9$ (512)."
   ]
  },
  {
   "cell_type": "code",
   "execution_count": null,
   "id": "8e55520a",
   "metadata": {},
   "outputs": [],
   "source": []
  }
 ],
 "metadata": {
  "kernelspec": {
   "display_name": "Python 3 (ipykernel)",
   "language": "python",
   "name": "python3"
  },
  "language_info": {
   "codemirror_mode": {
    "name": "ipython",
    "version": 3
   },
   "file_extension": ".py",
   "mimetype": "text/x-python",
   "name": "python",
   "nbconvert_exporter": "python",
   "pygments_lexer": "ipython3",
   "version": "3.9.7"
  }
 },
 "nbformat": 4,
 "nbformat_minor": 5
}
